{
 "cells": [
  {
   "cell_type": "code",
   "execution_count": 1,
   "metadata": {
    "tags": [
     "parameters"
    ]
   },
   "outputs": [],
   "source": [
    "scwid=\"066500110010.001\"\n",
    "emin=30.\n",
    "emax=300."
   ]
  },
  {
   "cell_type": "code",
   "execution_count": 2,
   "metadata": {},
   "outputs": [],
   "source": [
    "from ftplib import FTP\n",
    "import astropy.io.fits as fits\n",
    "import StringIO\n",
    "import os"
   ]
  },
  {
   "cell_type": "code",
   "execution_count": 3,
   "metadata": {},
   "outputs": [],
   "source": [
    "def download_file(server,filename,f):\n",
    "    ftp = FTP(server)\n",
    "    ftp.login(\"anonymous\", \"\")\n",
    "    #ftp.cwd(\"/\")\n",
    "\n",
    "    try:\n",
    "        ftp.retrbinary(\"RETR \" + filename ,f.write)\n",
    "    except Exception as e:\n",
    "        print(\"Error\",e)\n",
    "        \n",
    "#f=StringIO.StringIO()\n",
    "\n",
    "fn=\"events.fits\"\n",
    "f=open(fn,\"w\")\n",
    "\n",
    "\n",
    "download_file(\"isdcarc.unige.ch\",\n",
    "              \"arc/FTP/arc_distr/CONS/public/scw/1447/144700120010.001/isgri_events.fits.gz\",\n",
    "             f)\n",
    "f.flush()\n",
    "f.close()\n",
    "\n",
    "os.system(\"ls -ltor\")\n",
    "\n",
    "events=fits.open(fn)[3].data\n",
    "\n"
   ]
  },
  {
   "cell_type": "code",
   "execution_count": 7,
   "metadata": {},
   "outputs": [],
   "source": [
    "fn=\"spec.png\""
   ]
  },
  {
   "cell_type": "code",
   "execution_count": 5,
   "metadata": {},
   "outputs": [],
   "source": [
    "import matplotlib.pyplot as plt\n",
    "import numpy as np\n",
    "plt.figure()\n",
    "plt.hist(events['ISGRI_ENERGY'],np.logspace(1,3,100),log=True)\n",
    "plt.semilogx()\n",
    "plt.savefig(fn)"
   ]
  },
  {
   "cell_type": "code",
   "execution_count": 6,
   "metadata": {},
   "outputs": [],
   "source": [
    "import papermill as pm\n",
    "import base64\n",
    "pm.record(\"spectrum\",dict(filename=fn,content=base64.b64encode(open(fn).read())))\n",
    "\n"
   ]
  }
 ],
 "metadata": {
  "celltoolbar": "Tags",
  "kernelspec": {
   "display_name": "Python 2",
   "language": "python",
   "name": "python2"
  },
  "language_info": {
   "codemirror_mode": {
    "name": "ipython",
    "version": 2
   },
   "file_extension": ".py",
   "mimetype": "text/x-python",
   "name": "python",
   "nbconvert_exporter": "python",
   "pygments_lexer": "ipython2",
   "version": "2.7.15"
  }
 },
 "nbformat": 4,
 "nbformat_minor": 2
}

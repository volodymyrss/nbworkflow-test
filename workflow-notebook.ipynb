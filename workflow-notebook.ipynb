{
 "cells": [
  {
   "cell_type": "code",
   "execution_count": 26,
   "id": "ca1d372d",
   "metadata": {
    "tags": [
     "parameters"
    ]
   },
   "outputs": [],
   "source": [
    "scwid =\"066500110010.001\" # http://odahub.io/ontology/integral#ScWID\n",
    "emin = 10. # oda:keV, oda:emin\n",
    "emax = 900. # oda:keV, oda:emax; oda:limits 15, 1000\n",
    "nbins = 100\n",
    "sleep = 0\n",
    "enabled = True"
   ]
  },
  {
   "cell_type": "code",
   "execution_count": 27,
   "metadata": {},
   "outputs": [],
   "source": [
    "if emin<0:\n",
    "    raise Exception(\"emin can not be <0! got: %lg\"%emin)"
   ]
  },
  {
   "cell_type": "code",
   "execution_count": 28,
   "id": "4ed6d8f1",
   "metadata": {},
   "outputs": [],
   "source": [
    "if sleep > 0:\n",
    "    import time\n",
    "    time.sleep(sleep)"
   ]
  },
  {
   "cell_type": "code",
   "execution_count": 29,
   "metadata": {},
   "outputs": [],
   "source": [
    "from ftplib import FTP\n",
    "import astropy.io.fits as fits\n",
    "from io import StringIO\n",
    "import os\n",
    "from nb2workflow.workflows import WorkflowException\n",
    "import numpy as np"
   ]
  },
  {
   "cell_type": "code",
   "execution_count": 30,
   "metadata": {},
   "outputs": [],
   "source": [
    "if len(scwid) != 16:\n",
    "    raise WorkflowException(\"bad scwid: \"+scwid)"
   ]
  },
  {
   "cell_type": "code",
   "execution_count": 31,
   "metadata": {},
   "outputs": [],
   "source": [
    "if False:\n",
    "\n",
    "    fn=\"events.fits\"\n",
    "    os.system(\"wget ftp://isdcarc.unige.ch/arc/rev_3/scw/\"+scwid[:4]+\"/\"+scwid+\"/isgri_events.fits.gz -O \"+fn)\n",
    "\n",
    "    os.system(\"ls -ltor\")\n",
    "\n",
    "    events = fits.open(fn)[3].data\n",
    "\n",
    "    energies = events['ISGRI_ENERGY']\n",
    "else:\n",
    "    energies = np.random.normal(100, 100, 1000)"
   ]
  },
  {
   "cell_type": "code",
   "execution_count": 32,
   "metadata": {},
   "outputs": [
    {
     "data": {
      "image/png": "[encoded data removed]",
      "text/plain": [
       "<Figure size 640x480 with 1 Axes>"
      ]
     },
     "metadata": {},
     "output_type": "display_data"
    }
   ],
   "source": [
    "fn=\"spec.png\"\n",
    "\n",
    "import matplotlib.pyplot as plt\n",
    "plt.figure()\n",
    "h=plt.hist(energies, np.logspace(np.log10(emin),np.log10(emax),nbins),log=True)\n",
    "plt.semilogx()\n",
    "plt.savefig(fn)\n",
    "\n",
    "#Image(fn)"
   ]
  },
  {
   "cell_type": "code",
   "execution_count": 33,
   "metadata": {},
   "outputs": [
    {
     "data": {
      "text/plain": [
       "1000"
      ]
     },
     "execution_count": 33,
     "metadata": {},
     "output_type": "execute_result"
    }
   ],
   "source": [
    "total_events=len(energies)\n",
    "total_events"
   ]
  },
  {
   "cell_type": "code",
   "execution_count": 34,
   "metadata": {},
   "outputs": [],
   "source": [
    "#import papermill as pm\n",
    "#import base64\n",
    "\n",
    "#pm.record(\"spectrum\",dict(filename=fn,content=base64.b64encode(open(fn).read())))\n"
   ]
  },
  {
   "cell_type": "code",
   "execution_count": 35,
   "metadata": {
    "tags": [
     "outputs"
    ]
   },
   "outputs": [
    {
     "data": {
      "text/plain": [
       "1000"
      ]
     },
     "execution_count": 35,
     "metadata": {},
     "output_type": "execute_result"
    }
   ],
   "source": [
    "spectrum_png = fn # http://odahub.io/ontology/preview/png\n",
    "spectrum = h[0].tolist() # http://odahub.io/ontology/preview/png\n",
    "total_events "
   ]
  }
 ],
 "metadata": {
  "celltoolbar": "Tags",
  "kernelspec": {
   "display_name": "Python 3.9.5 ('base')",
   "language": "python",
   "name": "python3"
  },
  "language_info": {
   "codemirror_mode": {
    "name": "ipython",
    "version": 3
   },
   "file_extension": ".py",
   "mimetype": "text/x-python",
   "name": "python",
   "nbconvert_exporter": "python",
   "pygments_lexer": "ipython3",
   "version": "3.9.13"
  },
  "vscode": {
   "interpreter": {
    "hash": "1892832a55cb9b21d693a1e0afb7563f6ad424a1b7b3da21728b3ea0874fe733"
   }
  }
 },
 "nbformat": 4,
 "nbformat_minor": 5
}

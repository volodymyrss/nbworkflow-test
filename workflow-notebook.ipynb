{
 "cells": [
  {
   "cell_type": "code",
   "execution_count": 1,
   "id": "ca1d372d",
   "metadata": {
    "tags": [
     "parameters"
    ]
   },
   "outputs": [],
   "source": [
    "scwid =\"066500110010.001\" # http://odahub.io/ontology/integral#ScWID\n",
    "emin = 10. # oda:keV, oda:emin\n",
    "emax = 900. # oda:keV, oda:emax; oda:limits 15, 1000\n",
    "nbins = 100\n",
    "sleep = 0\n",
    "enabled = True"
   ]
  },
  {
   "cell_type": "code",
   "execution_count": 2,
   "metadata": {},
   "outputs": [],
   "source": [
    "if emin<0:\n",
    "    raise Exception(\"emin can not be <0! got: %lg\"%emin)"
   ]
  },
  {
   "cell_type": "code",
   "execution_count": 3,
   "id": "4ed6d8f1",
   "metadata": {},
   "outputs": [],
   "source": [
    "if sleep > 0:\n",
    "    import time\n",
    "    time.sleep(sleep)"
   ]
  },
  {
   "cell_type": "code",
   "execution_count": 4,
   "metadata": {},
   "outputs": [],
   "source": [
    "from ftplib import FTP\n",
    "import astropy.io.fits as fits\n",
    "from io import StringIO\n",
    "import os\n",
    "from nb2workflow.workflows import WorkflowException\n",
    "import numpy as np\n",
    "from astropy.table import Table"
   ]
  },
  {
   "cell_type": "code",
   "execution_count": 5,
   "metadata": {},
   "outputs": [],
   "source": [
    "if len(scwid) != 16:\n",
    "    raise WorkflowException(\"bad scwid: \"+scwid)"
   ]
  },
  {
   "cell_type": "code",
   "execution_count": 6,
   "metadata": {},
   "outputs": [],
   "source": [
    "if False:\n",
    "\n",
    "    fn=\"events.fits\"\n",
    "    os.system(\"wget ftp://isdcarc.unige.ch/arc/rev_3/scw/\"+scwid[:4]+\"/\"+scwid+\"/isgri_events.fits.gz -O \"+fn)\n",
    "\n",
    "    os.system(\"ls -ltor\")\n",
    "\n",
    "    events = fits.open(fn)[3].data\n",
    "\n",
    "    energies = events['ISGRI_ENERGY']\n",
    "else:\n",
    "    energies = np.random.normal(100, 100, 10000)"
   ]
  },
  {
   "cell_type": "code",
   "execution_count": 7,
   "metadata": {},
   "outputs": [
    {
     "data": {
      "image/png": "[encoded data removed]",
      "text/plain": [
       "<Figure size 640x480 with 1 Axes>"
      ]
     },
     "metadata": {},
     "output_type": "display_data"
    }
   ],
   "source": [
    "fn=\"spec.png\"\n",
    "\n",
    "import matplotlib.pyplot as plt\n",
    "plt.figure()\n",
    "h=plt.hist(energies, np.logspace(np.log10(emin),np.log10(emax),nbins),log=True)\n",
    "plt.semilogx()\n",
    "plt.savefig(fn)\n",
    "\n",
    "#Image(fn)"
   ]
  },
  {
   "cell_type": "code",
   "execution_count": 8,
   "metadata": {},
   "outputs": [
    {
     "data": {
      "text/plain": [
       "10000"
      ]
     },
     "execution_count": 8,
     "metadata": {},
     "output_type": "execute_result"
    }
   ],
   "source": [
    "total_events=len(energies)\n",
    "total_events"
   ]
  },
  {
   "cell_type": "code",
   "execution_count": 9,
   "id": "aa5ccb9d",
   "metadata": {},
   "outputs": [
    {
     "data": {
      "text/plain": [
       "<astropy.io.fits.hdu.table.BinTableHDU at 0x7fe092127ca0>"
      ]
     },
     "execution_count": 9,
     "metadata": {},
     "output_type": "execute_result"
    }
   ],
   "source": [
    "fits_file = \"energies.fits\"\n",
    "\n",
    "fits.BinTableHDU(Table({'ENERGY': energies})).writeto(fits_file, overwrite=True)"
   ]
  },
  {
   "cell_type": "code",
   "execution_count": 10,
   "metadata": {
    "tags": [
     "outputs"
    ]
   },
   "outputs": [
    {
     "data": {
      "text/plain": [
       "10000"
      ]
     },
     "execution_count": 10,
     "metadata": {},
     "output_type": "execute_result"
    }
   ],
   "source": [
    "spectrum_png = fn # http://odahub.io/ontology/preview/png\n",
    "spectrum = h[0].tolist() # http://odahub.io/ontology/preview/png\n",
    "energies_fits_file = fits_file\n",
    "total_events "
   ]
  }
 ],
 "metadata": {
  "celltoolbar": "Tags",
  "kernelspec": {
   "display_name": "Python 3.9.5 ('base')",
   "language": "python",
   "name": "python3"
  },
  "language_info": {
   "codemirror_mode": {
    "name": "ipython",
    "version": 3
   },
   "file_extension": ".py",
   "mimetype": "text/x-python",
   "name": "python",
   "nbconvert_exporter": "python",
   "pygments_lexer": "ipython3",
   "version": "3.9.13"
  },
  "vscode": {
   "interpreter": {
    "hash": "1892832a55cb9b21d693a1e0afb7563f6ad424a1b7b3da21728b3ea0874fe733"
   }
  }
 },
 "nbformat": 4,
 "nbformat_minor": 5
}

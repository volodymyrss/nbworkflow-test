{
 "cells": [
  {
   "cell_type": "code",
   "execution_count": 40,
   "metadata": {
    "tags": [
     "parameters"
    ]
   },
   "outputs": [],
   "source": [
    "scwid =\"066500110010.001\" # http://odahub.io/ontology/integral/ScWID\n",
    "emin=10.\n",
    "emax=900.\n",
    "nbins=100."
   ]
  },
  {
   "cell_type": "code",
   "execution_count": 16,
   "metadata": {},
   "outputs": [],
   "source": [
    "from ftplib import FTP\n",
    "import astropy.io.fits as fits\n",
    "import StringIO\n",
    "import os"
   ]
  },
  {
   "cell_type": "code",
   "execution_count": 27,
   "metadata": {},
   "outputs": [
    {
     "name": "stdout",
     "output_type": "stream",
     "text": [
      "('file:', 'arc/rev_3/scw/0665/066500110010.001/isgri_events.fits.gz')\n",
      "retrieved successfully\n"
     ]
    }
   ],
   "source": [
    "fn=\"events.fits\"\n",
    "os.system(\"wget ftp://isdcarc.unige.ch/arc/rev_3/scw/\"+scwid[:4]+\"/\"+scwid+\"/isgri_events.fits.gz -O \"+fn)\n",
    "\n",
    "os.system(\"ls -ltor\")\n",
    "\n",
    "events=fits.open(fn)[3].data"
   ]
  },
  {
   "cell_type": "code",
   "execution_count": 98,
   "metadata": {},
   "outputs": [
    {
     "data": {
      "image/png": "[encoded data removed]",
      "text/plain": [
       "<matplotlib.figure.Figure at 0x7fdad25bb6d0>"
      ]
     },
     "metadata": {
      "needs_background": "light"
     },
     "output_type": "display_data"
    }
   ],
   "source": [
    "fn=\"spec.png\"\n",
    "\n",
    "import matplotlib.pyplot as plt\n",
    "import numpy as np\n",
    "plt.figure()\n",
    "h=plt.hist(events['ISGRI_ENERGY'],np.logspace(np.log10(emin),np.log10(emax),nbins),log=True)\n",
    "plt.semilogx()\n",
    "plt.savefig(fn)\n",
    "\n",
    "#Image(fn)"
   ]
  },
  {
   "cell_type": "code",
   "execution_count": 96,
   "metadata": {},
   "outputs": [
    {
     "data": {
      "text/plain": [
       "1722916"
      ]
     },
     "execution_count": 96,
     "metadata": {},
     "output_type": "execute_result"
    }
   ],
   "source": [
    "total_events=len(events['ISGRI_ENERGY'])\n",
    "total_events"
   ]
  },
  {
   "cell_type": "code",
   "execution_count": 6,
   "metadata": {},
   "outputs": [],
   "source": [
    "#import papermill as pm\n",
    "#import base64\n",
    "\n",
    "#pm.record(\"spectrum\",dict(filename=fn,content=base64.b64encode(open(fn).read())))\n"
   ]
  },
  {
   "cell_type": "code",
   "execution_count": null,
   "metadata": {},
   "outputs": [],
   "source": []
  },
  {
   "cell_type": "code",
   "execution_count": 100,
   "metadata": {
    "tags": [
     "outputs"
    ]
   },
   "outputs": [
    {
     "data": {
      "text/plain": [
       "1722916"
      ]
     },
     "execution_count": 100,
     "metadata": {},
     "output_type": "execute_result"
    }
   ],
   "source": [
    "spectrum_png = fn # http://odahub.io/ontology/preview/png\n",
    "spectrum = h[0].tolist() # http://odahub.io/ontology/preview/png\n",
    "total_events "
   ]
  }
 ],
 "metadata": {
  "celltoolbar": "Tags",
  "kernelspec": {
   "display_name": "Python 2",
   "language": "python",
   "name": "python2"
  },
  "language_info": {
   "codemirror_mode": {
    "name": "ipython",
    "version": 2
   },
   "file_extension": ".py",
   "mimetype": "text/x-python",
   "name": "python",
   "nbconvert_exporter": "python",
   "pygments_lexer": "ipython2",
   "version": "2.7.15"
  }
 },
 "nbformat": 4,
 "nbformat_minor": 2
}
